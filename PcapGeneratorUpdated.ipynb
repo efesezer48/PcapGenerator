{
  "nbformat": 4,
  "nbformat_minor": 0,
  "metadata": {
    "colab": {
      "provenance": []
    },
    "kernelspec": {
      "name": "python3",
      "display_name": "Python 3"
    },
    "language_info": {
      "name": "python"
    }
  },
  "cells": [
    {
      "cell_type": "markdown",
      "source": [
        "Import Necessary Modules and Libraries\n"
      ],
      "metadata": {
        "id": "xtKV2EI09ZWN"
      }
    },
    {
      "cell_type": "code",
      "source": [
        "pip install scapy"
      ],
      "metadata": {
        "colab": {
          "base_uri": "https://localhost:8080/"
        },
        "id": "bCToEEMIBRyW",
        "outputId": "00604180-9341-489e-ea30-92f1c999fa3e"
      },
      "execution_count": null,
      "outputs": [
        {
          "output_type": "stream",
          "name": "stdout",
          "text": [
            "Requirement already satisfied: scapy in /usr/local/lib/python3.10/dist-packages (2.5.0)\n"
          ]
        }
      ]
    },
    {
      "cell_type": "code",
      "execution_count": null,
      "metadata": {
        "id": "usxsAAQn9P61"
      },
      "outputs": [],
      "source": [
        "import os\n",
        "import pandas as pd\n",
        "import numpy as np\n",
        "from scapy.all import rdpcap, wrpcap, IP, TCP, UDP,Ether\n",
        "from scapy.all import *\n",
        "from sklearn.model_selection import train_test_split  # for data splitting\n",
        "from sklearn.preprocessing import LabelEncoder\n",
        "import tensorflow as tf  # for neural network training"
      ]
    },
    {
      "cell_type": "markdown",
      "source": [
        "STEP1: Reading and Analyzing the PCAP File"
      ],
      "metadata": {
        "id": "kI_sgjXK9o-M"
      }
    },
    {
      "cell_type": "code",
      "source": [
        "# Analyze the packets in the PCAP file by iterating over each packet and printing a summary of each packet using the summary() method.\n",
        "\n",
        "# Load the pcap file\n",
        "# Load the attack details (assuming a similar structure)\n",
        "# attack_details_df = pd.read_csv('Darkgate2.csv')\n",
        "\n",
        "#packets = rdpcap('Darkgate2.pcap')  #provided by the professor\n",
        "\n",
        "# Analyze packets\n",
        "#for packet in packets[:]:\n",
        " #   print(packet.summary())"
      ],
      "metadata": {
        "id": "W95lDEDb9rVz"
      },
      "execution_count": null,
      "outputs": []
    },
    {
      "cell_type": "markdown",
      "source": [
        "STEP 2: Generating Synthetic Attack Files"
      ],
      "metadata": {
        "id": "3N2y-eGHBw8q"
      }
    },
    {
      "cell_type": "code",
      "source": [
        "import csv\n",
        "import random\n",
        "import pandas as pd\n",
        "from scapy.all import rdpcap, wrpcap, IP, TCP, UDP, Ether\n",
        "\n",
        "output_pcap_file = 'generatedattack.pcap'\n",
        "\n",
        "def load_ip_addresses():\n",
        "    # Predefined list of IP addresses I found online (which are generally used for malware)\n",
        "\n",
        "    # pull the ip addresses from the darkgate filesprof sent me\n",
        "    ip_addresses = [\n",
        "        \"103.251.167.20\", \"109.70.100.2\", \"109.70.100.65\", \"109.70.100.68\",\n",
        "        \"109.70.100.70\", \"142.44.234.69\", \"147.0.191.243\", \"162.155.77.166\",\n",
        "        \"162.229.195.242\", \"185.220.100.240\", \"185.220.100.241\", \"185.220.100.243\",\n",
        "        \"185.220.100.248\", \"185.220.100.252\", \"185.220.101.2\", \"185.220.101.38\",\n",
        "        \"185.220.101.81\", \"185.243.218.202\", \"185.246.188.73\", \"185.56.83.83\",\n",
        "        \"192.42.116.175\", \"192.42.116.183\", \"192.42.116.186\", \"192.42.116.189\",\n",
        "        \"192.42.116.191\", \"192.42.116.197\", \"193.35.18.105\", \"194.26.192.77\",\n",
        "        \"208.105.35.90\", \"209.177.72.205\", \"23.137.251.61\", \"23.251.87.120\",\n",
        "        \"24.250.126.2\", \"35.146.95.0\", \"45.138.16.42\"  # Only IPv4 adresses, no IPv6\n",
        "    ]\n",
        "    return random.sample(ip_addresses, min(10, len(ip_addresses)))  # selects 10 IP addresses\n",
        "\n",
        "def modify_packet(packet, ip_addresses, common_ports):\n",
        "    # Interchangeably use a pair of IP addresses to resemble a real traffic\n",
        "    src_ip, dst_ip = random.sample(ip_addresses, 2)\n",
        "    if IP in packet:\n",
        "        packet[IP].src = src_ip\n",
        "        packet[IP].dst = dst_ip\n",
        "    # Commonly observed TCP flags and their combinations\n",
        "    tcp_flags_options = ['A', 'S', 'F', 'FA', 'PA', 'RA', 'SA']  # include more\n",
        "\n",
        "    # Randomly select ports and TCP flags for TCP packets\n",
        "    if TCP in packet:\n",
        "        sport, dport = random.sample(common_ports, 2)\n",
        "        packet[TCP].sport = sport\n",
        "        packet[TCP].dport = dport\n",
        "        packet[TCP].flags = random.choice(tcp_flags_options)\n",
        "        packet[TCP].seq = random.randint(0, 10000) # this part the generator program has to learn it from the pcaps prof provided\n",
        "        packet[TCP].ack = random.randint(0, 10000)\n",
        "        packet[TCP].window = random.choice([8192, 65535, 1024]) # check if they are more available packet options\n",
        "\n",
        "        # Adjusting packet length\n",
        "        payload_sizes = [0, 64, 128, 256, 512, 1024]  # - include more if there are any avaialble - Example lengths in bytes\n",
        "        payload_size = random.choice(payload_sizes)\n",
        "        if payload_size > 0:\n",
        "            payload = 'A' * payload_size  # Generates a string of 'A's of length `payload_size`\n",
        "            packet = packet / Raw(load=payload)\n",
        "    elif UDP in packet:\n",
        "        sport, dport = random.sample(common_ports, 2)\n",
        "        packet[UDP].sport = sport\n",
        "        packet[UDP].dport = dport\n",
        "\n",
        "    return packet\n",
        "\n",
        "def generate_synthetic_attack(output_pcap_file):\n",
        "    # Load IP addresses\n",
        "    ip_addresses = load_ip_addresses()\n",
        "\n",
        "    # Common web ports\n",
        "    common_ports = [80, 443, 8080, 1024, 65535] #-pull from the pcap files provded by the Prof # include more ports\n",
        "\n",
        "    # Generate 100 synthetic packets\n",
        "    synthetic_packets = []\n",
        "    for _ in range(100):\n",
        "        packet = Ether()/IP()/TCP()  # Basic TCP/IP packet\n",
        "        packet = modify_packet(packet, ip_addresses, common_ports)\n",
        "        synthetic_packets.append(packet)\n",
        "\n",
        "    # Write modified packets to a new PCAP file\n",
        "    wrpcap(output_pcap_file, synthetic_packets)\n",
        "    print(f\"Synthetic attack PCAP file generated: {output_pcap_file}\")\n",
        "\n",
        "# Specify the output PCAP file path\n",
        "output_pcap_file = 'generatedattack.pcap'\n",
        "\n",
        "# Generate the synthetic attack PCAP file\n",
        "generate_synthetic_attack(output_pcap_file)\n",
        "\n",
        "# NOTE AFTER THE FIRST RUN, YOU NEED TO DELETE THE GENERATED FILE OR IT WILL RAISE AN ERROR (i can also fix this by adding a control look or if else, but no need for now)\n"
      ],
      "metadata": {
        "colab": {
          "base_uri": "https://localhost:8080/"
        },
        "id": "QGYA0wQABy_D",
        "outputId": "ce2c0e18-515e-4b04-8651-e94ad464ab65"
      },
      "execution_count": null,
      "outputs": [
        {
          "output_type": "stream",
          "name": "stdout",
          "text": [
            "Synthetic attack PCAP file generated: generatedattack.pcap\n"
          ]
        }
      ]
    }
  ]
}